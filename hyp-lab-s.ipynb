{
 "cells": [
  {
   "cell_type": "markdown",
   "metadata": {},
   "source": [
    "# Hypothesis testing (p-value vs. effect size)\n",
    "\n",
    "## SWBAT:\n",
    "* Describe how effect size, sample size and p_value are related to each other. \n",
    "* Use Welch's t-test for distributions that do not normality assumption.\n",
    "* Plot visualisations to confirm the calculations and intuitions towards p_value and effect size. \n",
    "* Explain how with a same effect size, we may see different p_values with increasing number of simulations. "
   ]
  },
  {
   "cell_type": "markdown",
   "metadata": {},
   "source": [
    "### A Quick Re-cap\n",
    "\n",
    "What we have learnt from the labs and lessons so far is that scientific results must be presented with a level of uncertainty i.e. a confidence interval e.g. \n",
    "\n",
    "*\"56% of likely voters prefer candidate A with a **margin of 4 points**. *\n",
    "\n",
    "we also learnt that the uncertainty from sampling erros errors can be reduced by repeating the experiment. \n",
    "\n",
    "For reporting uncertainty, we used hypothesis testing to compare experimental results with the null hypothesis that the results don't exist. This is done because we know that due to random errors, we might see a positive experimental result, *even if no true effect exists*.  Following this thought, The p-value is at the heart of a massive controversy in scientific community with some journals banning hypothesis testing completely. \n",
    "\n",
    "In this lab, we shall try to see this phenomenon in action. You would be required to use your existing statistical analysis and plotting abilities to visualise the effect of sample size and effect size on p-value calculation.\n"
   ]
  },
  {
   "cell_type": "markdown",
   "metadata": {},
   "source": [
    "### Example Scenario\n",
    "\n",
    "Suppose you are running clinical tests for a new pharmaceutical drug. In such a situation, you would create a control (placebo) group and a treatment group for running independant t-test. \n",
    "\n",
    "Now imagine that your results show the drug has some effect - it lowers the blood pressure for participants in the treatment group. To address uncertainty, you could ask a question like:\n",
    "\n",
    ">\"What is the probability I would see this effect due to random fluctuations if there was actually no effect?\" \n",
    "\n",
    "Clearly, the Null hypothesis would look like: $μc=μt$. We can also create one-sided alternative hypothesis accordingly, as se saw earlier. \n",
    "\n",
    "The analysis of this question leads to p-value calculation using some test statistic to calculate the probability you would see an equal or greater effect under the null hypothesis. We know that when p-value is below some critical value, typically p<0.05, then the result is declared statistically significant and the null hypothesis is rejected."
   ]
  },
  {
   "cell_type": "markdown",
   "metadata": {},
   "source": [
    "As a first step, perform following three steps towards generating and visualizing samples for calculating our t-statistic\n",
    "\n",
    "1. Generate 10 sample from a standard normal distribution (standard normal distribution has a mean 0 and sd of 1). Repeat this twice to simulate control and treatment group. \n",
    "\n",
    "2. Scale up the samples to make them positive (with mean=0 and sd=1, there are bound to be negative values, shift mean to 2 instead)\n",
    "\n",
    "3. plot histograms for both samples. "
   ]
  },
  {
   "cell_type": "code",
   "execution_count": 11,
   "metadata": {},
   "outputs": [],
   "source": [
    "%matplotlib inline\n",
    "\n",
    "import numpy as np\n",
    "import matplotlib.pyplot as plt\n",
    "from scipy import stats\n",
    "import seaborn as sb\n",
    "\n",
    "# sb.set_context('notebook', font_scale=1.25)"
   ]
  },
  {
   "cell_type": "code",
   "execution_count": 12,
   "metadata": {},
   "outputs": [],
   "source": [
    "np.random.seed(82)\n",
    "# Using np.random.randn() generate 10 samples with mean 2\n",
    "a = np.random.randn(10) + 2 # +2 for shifting mean \n",
    "b = np.random.randn(10) + 2"
   ]
  },
  {
   "cell_type": "markdown",
   "metadata": {},
   "source": [
    "Plot overlapping histograms for both samples for visual inspection."
   ]
  },
  {
   "cell_type": "code",
   "execution_count": 13,
   "metadata": {},
   "outputs": [],
   "source": [
    "# Plot overlapping histograms for a and b"
   ]
  },
  {
   "cell_type": "code",
   "execution_count": 14,
   "metadata": {},
   "outputs": [
    {
     "data": {
      "image/png": "[encoded data removed]",
      "text/plain": [
       "<matplotlib.figure.Figure at 0x1a15dce4a8>"
      ]
     },
     "metadata": {},
     "output_type": "display_data"
    }
   ],
   "source": [
    "plt.hist(a, range=(-1, 6), bins=28, alpha=0.6);\n",
    "plt.hist(b, range=(-1, 6), bins=28, alpha=0.6);"
   ]
  },
  {
   "cell_type": "markdown",
   "metadata": {},
   "source": [
    "## The t-test \n",
    "\n",
    "Let's calculate a test statistic, $t$ and compare it with what we would get from the null hypothesis and calculate a p-value.\n",
    "\n",
    "### Welch's t-Test\n",
    "\n",
    "The student t-test, we saw earlier assumes the data is normally distributed with samples having equal variance and sample size. There is a more general test that can be used when these assumptions don't hold strong, **Welch's t-test**. \n",
    "\n",
    "Here is how you calculate it:\n",
    "![](http://www.statisticshowto.com/wp-content/uploads/2015/03/Welchs-test-for-unequal-variances.png)\n",
    "\n",
    "where Xi_bar , s2i, and Ni are the sample mean, sample variance, and sample size, respectively, for sample i.\n",
    "\n",
    "Welch’s Test for Unequal Variances (also called Welch’s t-test, Welch’s adjusted T or unequal variances t-test) is a modification of a Student’s t-test to see if two sample means are significantly different. There is a modification to the **degrees of freedom** in this test, which tends to increase the test power for samples with unequal variance. When two groups have equal sample sizes and variances, Welch’s tends to give the same result as Student’s t. However, when sample sizes and variances are unequal, Student’s t-test is quite unreliable, whereas Welch’s tends perform better.\n",
    "\n",
    "Let's write a function for calculatying Welch's t-statistic using two samples generated above:"
   ]
  },
  {
   "cell_type": "code",
   "execution_count": 15,
   "metadata": {},
   "outputs": [
    {
     "data": {
      "text/plain": [
       "0.41037468596041143"
      ]
     },
     "execution_count": 15,
     "metadata": {},
     "output_type": "execute_result"
    }
   ],
   "source": [
    "def welch_t(a, b):\n",
    "    \n",
    "    \"\"\" Calculate Welch's t statistic for two samples. \"\"\"\n",
    "\n",
    "    numerator = a.mean() - b.mean()\n",
    "    \n",
    "    # “ddof = Delta Degrees of Freedom”: the divisor used in the calculation is N - ddof, \n",
    "    #  where N represents the number of elements. By default ddof is zero.\n",
    "    \n",
    "    denominator = np.sqrt(a.var(ddof=1)/a.size + b.var(ddof=1)/b.size)\n",
    "    \n",
    "    return numerator/denominator\n",
    "\n",
    "welch_t(a,b)\n",
    "# 0.41037468596041143"
   ]
  },
  {
   "cell_type": "markdown",
   "metadata": {},
   "source": [
    "### Degree of Freedom\n",
    "We also need to calculate the effective degrees of freedom using the formula:"
   ]
  },
  {
   "cell_type": "markdown",
   "metadata": {},
   "source": [
    "![](https://1.bp.blogspot.com/-rawdGLOVCxo/Wp5ju1ei5AI/AAAAAAAABDs/GzCg-sDvrWoZwObatBKoK8-d8QsjNYISACLcBGAs/s1600/Welch-degree%2Bof%2Bfreedom.JPG)\n",
    "\n",
    "where vi is the degrees of freedom from the first sample and is given by the formula\n",
    "vi = Ni - 1 for sample i.\n",
    "\n",
    "Let's write a second function to calculate degree of freedom for above samples:"
   ]
  },
  {
   "cell_type": "code",
   "execution_count": 23,
   "metadata": {},
   "outputs": [
    {
     "data": {
      "text/plain": [
       "17.86731104513857"
      ]
     },
     "execution_count": 23,
     "metadata": {},
     "output_type": "execute_result"
    }
   ],
   "source": [
    "def welch_df(a, b):\n",
    "    \n",
    "    \"\"\" Calculate the effective degrees of freedom for two samples. \"\"\"\n",
    "    \n",
    "    s1 = a.var(ddof=1) \n",
    "    s2 = b.var(ddof=1)\n",
    "    n1 = a.size\n",
    "    n2 = b.size\n",
    "    \n",
    "    numerator = (s1/n1 + s2/n2)**2\n",
    "    denominator = (s1/ n1)**2/(n1 - 1) + (s2/ n2)**2/(n2 - 1)\n",
    "    \n",
    "    return numerator/denominator\n",
    "\n",
    "welch_df(a, b)\n",
    "# 17.86731104513857"
   ]
  },
  {
   "cell_type": "markdown",
   "metadata": {},
   "source": [
    "This result is for two samples (a,b) drawn from the same distribution. We are interested in distribution of t calculated from many samples from same distribution. **This will give us a distribution for comparison with t calculated from real data.**\n",
    "\n",
    "### T-distribution with Increasing number of trials\n",
    "\n",
    "Let's plot the distribution of t for increasing number of simulations to give us a sense of what would happen if we could do this infinite times. Expected plot may look something similar to the one shown below:\n",
    "\n",
    "![](sampleplot.png)\n"
   ]
  },
  {
   "cell_type": "markdown",
   "metadata": {},
   "source": [
    "### STEPS:\n",
    "1. Use the sample size N = 10, mu = 2 and sigma= 1.5\n",
    "2. Cretae a figure with i subplots (i = number of simulations)\n",
    "3. Number of Trials (M) = [10,100,1000,10000]\n",
    "    \n",
    "    take two samples a,b of shape MxN\n",
    "    \n",
    "    for all a_i, b_i in zip(a,b) , calculate the t using welch_t() and collect t in a  numpy array\n",
    "    \n",
    "    draw a histogram of collected ts\n",
    "    \n",
    "    calculate df with welch_df()\n",
    "    \n",
    "    plot a PDF for t distribution with calculated df\n",
    "    \n",
    "    label the plots"
   ]
  },
  {
   "cell_type": "code",
   "execution_count": 27,
   "metadata": {},
   "outputs": [
    {
     "data": {
      "image/png": "[encoded data removed]",
      "text/plain": [
       "<matplotlib.figure.Figure at 0x1a164b9e48>"
      ]
     },
     "metadata": {},
     "output_type": "display_data"
    }
   ],
   "source": [
    "np.random.seed(10)\n",
    "\n",
    "N = 10 # Sample size\n",
    "mu, sig = 2, 1.5\n",
    "fig, axes = plt.subplots(figsize=(10,3.5), ncols=4, sharey=True)\n",
    "for ax, M in zip(axes, [10, 100, 1000, 10000]):\n",
    "\n",
    "    # Generate samples as arrays of shape M*N\n",
    "    a = np.random.randn(M, N)*sig + mu\n",
    "    b = np.random.randn(M, N)*sig + mu\n",
    "\n",
    "    # Calculate a set of Welch t values from samples and plot a histogram\n",
    "    ts = np.array([welch_t(a_i, b_i) for a_i, b_i in zip(a, b)])\n",
    "    ax.hist(ts, range=(-4,4), bins=30, normed=True, label='Simulation')\n",
    "    \n",
    "    # Calculate Welch df for plotting t distribution\n",
    "    df = welch_df(a[0,:], b[0,:])\n",
    "    x = np.linspace(-4, 4, 100)\n",
    "    ax.plot(x, stats.t.pdf(x, df), color='r', label='t-distribution')\n",
    "\n",
    "    # Label the plot and axes\n",
    "    ax.set_title(\"M = {}\".format(M))\n",
    "    ax.set_ylim(0, 1)\n",
    "    ax.set_xlabel(\"t-statistic\")\n",
    "    _ = ax.legend()\n",
    "    axes[0].set_ylabel(\"p(t)\")\n",
    "    \n",
    "#fig.tight_layout()"
   ]
  },
  {
   "cell_type": "markdown",
   "metadata": {},
   "source": [
    "We see that as the number of simulations gets larger, the distribution of t-statistics becomes closer and closer to the t-distribution with degrees of freedom calculated from the data. We can therefore use the t-distribution as an approximation of this process, as if we had actually performed the simulation infinite times. \n",
    "\n",
    "### T-distribution with Increasing number of samples\n",
    "\n",
    "Let's try to run above simulation with changing size of the sample as [2, 3, 5, 25] and keeping M constant at 10000. "
   ]
  },
  {
   "cell_type": "code",
   "execution_count": 28,
   "metadata": {},
   "outputs": [
    {
     "data": {
      "image/png": "[encoded data removed]",
      "text/plain": [
       "<matplotlib.figure.Figure at 0x1a16801a90>"
      ]
     },
     "metadata": {},
     "output_type": "display_data"
    }
   ],
   "source": [
    "np.random.seed(10)\n",
    "M = 10000 # Simulations\n",
    "mu, sig = 2, 1.5\n",
    "fig, axes = plt.subplots(figsize=(10,3.5), ncols=4, sharey=True)\n",
    "for ax, N in zip(axes, [2, 3, 5, 25]):\n",
    "    a = np.random.randn(M, N)*sig + mu\n",
    "    b = np.random.randn(M, N)*sig + mu\n",
    "\n",
    "    ts = np.array([welch_t(a_i, b_i) for a_i, b_i in zip(a, b)])\n",
    "    ax.hist(ts, range=(-4,4), bins=30, normed=True, label='Simulation')\n",
    "\n",
    "    df = welch_df(a[0,:], b[0,:])\n",
    "    x = np.linspace(-4, 4, 100)\n",
    "    ax.plot(x, stats.t.pdf(x, df), 'r', label='T distribution')\n",
    "    ax.plot(x, stats.norm.pdf(x), '--k', label='Normal distribution')\n",
    "    ax.set_title(\"N = {}\".format(N))\n",
    "\n",
    "    ax.set_ylim(0, 1)\n",
    "    ax.set_xlabel(\"t-statistic\")\n",
    "    _ = ax.legend()\n",
    "    axes[0].set_ylabel(\"p(t)\")\n",
    "    \n",
    "fig.tight_layout()"
   ]
  },
  {
   "cell_type": "markdown",
   "metadata": {},
   "source": [
    "We can see that with increasing sample size, the t-distribution can be approximated by a normal distribution with zero mean and a variance of one. \n",
    "\n",
    "So how is this used to calculate a p-value? Remember that this is the distribution of t for two samples drawn from the same distribution, and for such situation, the null hypothesis would be **μ1=μ2**.\n",
    "\n",
    "#### Control and Treatment groups \n",
    "\n",
    "In a typical experiment, you will have samples from what you believe is two groups, the control group and the treatment group. Let's simulate some samples for control and treatment group, and calculate t, then go through how to calculate a p-value with following sample data."
   ]
  },
  {
   "cell_type": "code",
   "execution_count": 30,
   "metadata": {},
   "outputs": [],
   "source": [
    "np.random.seed(1)\n",
    "control = np.random.randn(8)*1.5 + 2\n",
    "treatment = np.random.randn(12) + 3"
   ]
  },
  {
   "cell_type": "markdown",
   "metadata": {},
   "source": [
    "Build a scatter plot for control and treatment sample data generated above to visualize the variability."
   ]
  },
  {
   "cell_type": "code",
   "execution_count": 31,
   "metadata": {},
   "outputs": [
    {
     "data": {
      "text/plain": [
       "Text(0.5,0,'Sample value')"
      ]
     },
     "execution_count": 31,
     "metadata": {},
     "output_type": "execute_result"
    },
    {
     "data": {
      "image/png": "[encoded data removed]",
      "text/plain": [
       "<matplotlib.figure.Figure at 0x1a15ddafd0>"
      ]
     },
     "metadata": {},
     "output_type": "display_data"
    }
   ],
   "source": [
    "ig, ax = plt.subplots(figsize=(5,3))\n",
    "colors = sb.color_palette()\n",
    "ax.scatter(control, np.zeros(len(control)), c=colors[0], \n",
    "            marker='|', s=400, linewidths=2, alpha=0.9)\n",
    "ax.scatter(treatment, np.ones(len(treatment)), color=colors[1],\n",
    "            marker='|', s=400, linewidths=2, alpha=0.9)\n",
    "ax.set_yticks([0, 1])\n",
    "ax.set_yticklabels(['control', 'treatment'])\n",
    "ax.set_xlabel('Sample value')"
   ]
  },
  {
   "cell_type": "markdown",
   "metadata": {},
   "source": [
    "calculate welch-t and degree of freedom from these samples using functions developed earlier:"
   ]
  },
  {
   "cell_type": "code",
   "execution_count": 32,
   "metadata": {},
   "outputs": [
    {
     "data": {
      "text/plain": [
       "(1.325675538604432, 8.95372010421334)"
      ]
     },
     "execution_count": 32,
     "metadata": {},
     "output_type": "execute_result"
    }
   ],
   "source": [
    "t = welch_t(treatment, control)\n",
    "df = welch_df(treatment, control)\n",
    "t,df\n",
    "# (1.325675538604432, 8.95372010421334)"
   ]
  },
  {
   "cell_type": "markdown",
   "metadata": {},
   "source": [
    "The p-value is the probability we would see a value equal to or more extreme than t, under the null hypothesis. We can find this probability using the t-distribution with degrees of freedom. We shall use a one tailed test which suits our question i.e. drug has a positive effect.\n",
    "\n",
    "For a one-tailed test, then the p-value is simply equal to the area under the t-distribution that is less than calculated t.\n",
    "\n",
    "Let's draw a plot to identify the area under curve. Your plot may look similar to the one shown here :\n",
    "\n",
    "![](AUC.png)"
   ]
  },
  {
   "cell_type": "code",
   "execution_count": 33,
   "metadata": {},
   "outputs": [
    {
     "data": {
      "text/plain": [
       "<matplotlib.collections.PolyCollection at 0x1079d15c0>"
      ]
     },
     "execution_count": 33,
     "metadata": {},
     "output_type": "execute_result"
    },
    {
     "data": {
      "image/png": "[encoded data removed]",
      "text/plain": [
       "<matplotlib.figure.Figure at 0x1a15dce668>"
      ]
     },
     "metadata": {},
     "output_type": "display_data"
    }
   ],
   "source": [
    "fig, ax = plt.subplots()\n",
    "x = np.linspace(-4, 4, 200)\n",
    "t_dist = stats.t.pdf(x, df)\n",
    "ax.plot(x, t_dist, label='t-distribution')\n",
    "ax.vlines(t, 0, 0.4, linestyles='--', color='k', \n",
    "          label='t-statistic = {:.3f}'.format(t))\n",
    "ax.set_ylabel('pdf(t)')\n",
    "ax.set_xlabel('t')\n",
    "ax.set_ylim(0, 0.55)\n",
    "ax.legend(loc=9)\n",
    "ax.fill_between(x, 0, t_dist, where=(x >= t), color='grey', alpha=0.5)"
   ]
  },
  {
   "cell_type": "markdown",
   "metadata": {},
   "source": [
    "The easiest way to calculate the shaded area is with the cumulative density function (CDF). \n",
    "\n",
    ">The CDF at t is equal to the area under the curve for all values less than t."
   ]
  },
  {
   "cell_type": "code",
   "execution_count": 53,
   "metadata": {},
   "outputs": [
    {
     "data": {
      "text/plain": [
       "0.10888620005627703"
      ]
     },
     "execution_count": 53,
     "metadata": {},
     "output_type": "execute_result"
    }
   ],
   "source": [
    "p = 1 - stats.t.cdf(t, df)\n",
    "p\n",
    "# 0.891113799943723"
   ]
  },
  {
   "cell_type": "markdown",
   "metadata": {},
   "source": [
    "In this case, there is a 10% probability we would see t equal to or greater than what we saw from our data. We would not be able to reject the null hypothesis since p is not less than 0.05. \n",
    "\n",
    "Building on above code, we can also write a function that calculates the p-value for given samples with a two-sided test by taking advantage of the symmetry of the t-distribution to calculate only one side. The two-tailed p-value is simply twice the one-tailed value, because we want the probability:\n",
    ">$t<−|t̂|$ and  $t>|t̂|$ , where t̂  is the t-statistic calculated from our data"
   ]
  },
  {
   "cell_type": "code",
   "execution_count": 51,
   "metadata": {},
   "outputs": [],
   "source": [
    "def p_value(a, b):\n",
    "\n",
    "    \"Two-sided t-test for two samples a and b.\"\n",
    "\n",
    "    t = welch_t(a, b)\n",
    "    df = welch_df(a, b)\n",
    "    \n",
    "    p = stats.t.cdf(-np.abs(t), df)\n",
    "\n",
    "    return t, p+p"
   ]
  },
  {
   "cell_type": "code",
   "execution_count": 82,
   "metadata": {},
   "outputs": [
    {
     "data": {
      "text/plain": [
       "(1.325675538604432, 0.21777240011255405)"
      ]
     },
     "execution_count": 82,
     "metadata": {},
     "output_type": "execute_result"
    }
   ],
   "source": [
    "p_value(treatment, control)\n",
    "# (1.325675538604432, 0.21777240011255405)"
   ]
  },
  {
   "cell_type": "markdown",
   "metadata": {},
   "source": [
    "### P_Value and Sample Size\n",
    "\n",
    "Let's now explore how the p-value depends on sample size and effect size. We will take the effect size as the difference in means between two samples from normal distributions with variances of one. \n",
    "\n",
    "Let's write a function to run an experiment with N (sample size), effect size (difference in means) and return the p_value using functions created earlier. "
   ]
  },
  {
   "cell_type": "code",
   "execution_count": 74,
   "metadata": {},
   "outputs": [],
   "source": [
    "def p_experiment(N, effect=1):\n",
    "    \n",
    "    control = np.random.randn(N)\n",
    "    treatment = np.random.randn(N) + effect # Add effect to treatment group\n",
    "    \n",
    "    t, p = p_value(control, treatment)\n",
    "\n",
    "    return p\n"
   ]
  },
  {
   "cell_type": "markdown",
   "metadata": {},
   "source": [
    "Using the given values of M and N below, run the above function for effect sizes [0.2, 0.5, 1]. Store the values in an array using formula \n",
    "\n",
    "`ps = np.array([sum(simulate_experiment(N, effect_size) for m in range(M))/M for N in Ns])`"
   ]
  },
  {
   "cell_type": "code",
   "execution_count": 69,
   "metadata": {},
   "outputs": [],
   "source": [
    "Ns = np.linspace(2,300).astype(int) # Sample sizes\n",
    "M = 1000 # Simulations\n",
    "\n",
    "for e_size in [0.2,0.5,1]:\n",
    "    \n",
    "    p1 = np.array([sum(p_experiment(N, 0.2) for m in range(M))/M for N in Ns])\n",
    "    p2 = np.array([sum(p_experiment(N, 0.5) for m in range(M))/M for N in Ns])\n",
    "    p3 = np.array([sum(p_experiment(N, 1) for m in range(M))/M for N in Ns])"
   ]
  },
  {
   "cell_type": "markdown",
   "metadata": {},
   "source": [
    "For each chosen effect size i.e. .2, .5 and 1, show the effect of sample size on averaged p_value calculated above. An example plot may look like:\n",
    "![](p-sample-eff.png)"
   ]
  },
  {
   "cell_type": "code",
   "execution_count": 71,
   "metadata": {},
   "outputs": [
    {
     "data": {
      "text/plain": [
       "<matplotlib.legend.Legend at 0x1a16b05d30>"
      ]
     },
     "execution_count": 71,
     "metadata": {},
     "output_type": "execute_result"
    },
    {
     "data": {
      "image/png": "[encoded data removed]",
      "text/plain": [
       "<matplotlib.figure.Figure at 0x1a0cf21128>"
      ]
     },
     "metadata": {},
     "output_type": "display_data"
    }
   ],
   "source": [
    "# Plot the graph similar to one shown above\n",
    "plt.plot(Ns, p1, label=\"Effect = 0.2\")\n",
    "plt.plot(Ns, p2, label=\"Effect = 0.5\")\n",
    "plt.plot(Ns, p3, label=\"Effect = 1\")\n",
    "plt.hlines(0.05, 0, 300, linestyles='--', color='k')\n",
    "plt.ylabel(\"Average p-value\")\n",
    "plt.xlabel(\"Sample size\")\n",
    "plt.legend()\n"
   ]
  },
  {
   "cell_type": "markdown",
   "metadata": {},
   "source": [
    "What we see here is that the p-value is a function of the sample size. This means that regardless of effect size, if you have a large amount of data, you will get a significant p-value. It also means that if you don't have a significant p-value, an effect isn't rejected, you just can't see it through the noise."
   ]
  },
  {
   "cell_type": "markdown",
   "metadata": {},
   "source": [
    "### P_Value and Effect Size\n",
    "\n",
    "We shall now look at how the p-values depend on effect size. We shall simulate experiments to see the distribution of p-values we get with changing effect sizes (as compared to fixed effect size previously).\n",
    "\n",
    "Use the effect sizes [0.1, 0.25, 0.5, 0.75] with a sample size N = 100 and number of simulations -  M = 10000. Plot a hoistogram of p_values calculated for each effect size. The output may look similar to:\n",
    "![](p_eff.png)\n"
   ]
  },
  {
   "cell_type": "code",
   "execution_count": 80,
   "metadata": {},
   "outputs": [
    {
     "data": {
      "image/png": "[encoded data removed]",
      "text/plain": [
       "<matplotlib.figure.Figure at 0x1a1748e240>"
      ]
     },
     "metadata": {},
     "output_type": "display_data"
    }
   ],
   "source": [
    "fig, axes = plt.subplots(figsize=(12,3), ncols=4, sharey=True)\n",
    "effect_sizes = [0.1, 0.25, 0.5, 0.75]\n",
    "\n",
    "effects = [[p_experiment(100, effect=e) for m in range(10000)] for e in effect_sizes]\n",
    "\n",
    "for i, ps in enumerate(effects):\n",
    "    ax = axes[i]\n",
    "    ax.hist(ps, range=(0, 0.5), bins=40, normed=True, alpha=0.7)\n",
    "    ax.vlines(0.05, 0, 100, color='k', linestyles='--')\n",
    "    ax.set_title('Effect = {}'.format(effect_sizes[i]))\n",
    "    ax.set_xlabel('p')\n",
    "    ax.set_ylim(0, 10)"
   ]
  },
  {
   "cell_type": "markdown",
   "metadata": {},
   "source": [
    "It can be seen from the second set of simulations with an effect of 0.25, that If this same experiment were replicated in multiple labs in multiple locations, the chance that one particular experiment would find a statistically significant effect is about the same as getting heads from a coin flip. "
   ]
  },
  {
   "cell_type": "code",
   "execution_count": 81,
   "metadata": {},
   "outputs": [
    {
     "name": "stdout",
     "output_type": "stream",
     "text": [
      "Effect = 0.1, P(p < 0.05): 0.111\n",
      "Effect = 0.25, P(p < 0.05): 0.4171\n",
      "Effect = 0.5, P(p < 0.05): 0.9391\n",
      "Effect = 0.75, P(p < 0.05): 0.9996\n"
     ]
    }
   ],
   "source": [
    "for i, each in enumerate(effects):\n",
    "    print('Effect = {}, P(p < 0.05): {}'.\\\n",
    "          format(effect_sizes[i], (np.array(each) < 0.05).mean()))\n"
   ]
  },
  {
   "cell_type": "markdown",
   "metadata": {},
   "source": [
    "## Summary\n",
    "\n",
    "This lesson summarizes and further builds upon the ideas that we saw in the previous labs. We learnt how p_value can be described as a function of effect size and for a given effect size, the p_value may get lower if we increase the sample size considerably. We also saw how p_value alone can not be used in order to identify some results as truly siginifcant, as this can be achieved when there is not a significant effect size. "
   ]
  },
  {
   "cell_type": "code",
   "execution_count": null,
   "metadata": {},
   "outputs": [],
   "source": []
  }
 ],
 "metadata": {
  "kernelspec": {
   "display_name": "Python 3",
   "language": "python",
   "name": "python3"
  },
  "language_info": {
   "codemirror_mode": {
    "name": "ipython",
    "version": 3
   },
   "file_extension": ".py",
   "mimetype": "text/x-python",
   "name": "python",
   "nbconvert_exporter": "python",
   "pygments_lexer": "ipython3",
   "version": "3.6.4"
  }
 },
 "nbformat": 4,
 "nbformat_minor": 2
}
